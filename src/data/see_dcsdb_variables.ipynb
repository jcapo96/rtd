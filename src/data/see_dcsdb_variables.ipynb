{
 "cells": [
  {
   "cell_type": "code",
   "execution_count": 4,
   "metadata": {},
   "outputs": [],
   "source": [
    "import json\n",
    "import pandas as pd"
   ]
  },
  {
   "cell_type": "code",
   "execution_count": 5,
   "metadata": {},
   "outputs": [],
   "source": [
    "path = \"/afs/cern.ch/work/j/jcapotor/software/rtd/src/data/mapping/sensor_dict.json\""
   ]
  },
  {
   "cell_type": "code",
   "execution_count": 7,
   "metadata": {},
   "outputs": [
    {
     "name": "stdout",
     "output_type": "stream",
     "text": [
      "           ID                                       Sensor_Name\n",
      "0  6828332826  NP04_DCS_01:_DistSync.Historical.HandshakeByUser\n",
      "1  6828333082        NP04_DCS_01:_DistSync.Historical.StartTime\n",
      "2  6828333338          NP04_DCS_01:_DistSync.Historical.EndTime\n",
      "3  6828333594         NP04_DCS_01:_DistSync.Historical.SyncData\n",
      "4  6828333850           NP04_DCS_01:_DistSync.Historical.Result\n"
     ]
    }
   ],
   "source": [
    "# Load JSON manually\n",
    "with open(path, \"r\") as file:\n",
    "    data = json.load(file)\n",
    "\n",
    "# Convert dictionary to DataFrame\n",
    "df = pd.DataFrame(list(data.items()), columns=[\"ID\", \"Sensor_Name\"])\n",
    "\n",
    "# Display the first few rows\n",
    "print(df.head())"
   ]
  },
  {
   "cell_type": "code",
   "execution_count": 48,
   "metadata": {},
   "outputs": [
    {
     "name": "stdout",
     "output_type": "stream",
     "text": [
      "['47931818246426'] ['NP04_DCS_01:NP04_4PDT4925.']\n"
     ]
    }
   ],
   "source": [
    "item = df.loc[df[\"Sensor_Name\"].apply(lambda x: \"4PDT4925\" in x if pd.notnull(x) else False)]\n",
    "print(item[\"ID\"].values, item[\"Sensor_Name\"].values)"
   ]
  },
  {
   "cell_type": "code",
   "execution_count": 1,
   "metadata": {},
   "outputs": [],
   "source": [
    "import subprocess, json, datetime, tqdm"
   ]
  },
  {
   "cell_type": "code",
   "execution_count": 3,
   "metadata": {},
   "outputs": [],
   "source": [
    "dates = []\n",
    "start_date = datetime.datetime(2024, 3, 1)\n",
    "#end_date = datetime.datetime(2024, 3, 3)\n",
    "end_date = datetime.datetime(2025, 3, 12)\n",
    "while start_date <= end_date:\n",
    "    dates.append(datetime.datetime.strftime(start_date, \"%Y-%m-%d\"))\n",
    "    start_date += datetime.timedelta(days=1)"
   ]
  },
  {
   "cell_type": "code",
   "execution_count": 4,
   "metadata": {},
   "outputs": [],
   "source": [
    "with open('/afs/cern.ch/work/j/jcapotor/software/rtd/src/data/mapping/dates_to_extract.txt', 'w') as file:\n",
    "    for date in dates:\n",
    "        file.write(date + \"\\n\")"
   ]
  },
  {
   "cell_type": "code",
   "execution_count": 4,
   "metadata": {},
   "outputs": [],
   "source": [
    "import pandas as pd\n",
    "path = \"/eos/user/j/jcapotor/PDHDdata/data/2024-03-06.csv\"\n",
    "data = pd.read_csv(path)"
   ]
  },
  {
   "cell_type": "code",
   "execution_count": 5,
   "metadata": {},
   "outputs": [
    {
     "name": "stdout",
     "output_type": "stream",
     "text": [
      "                Unnamed: 0      TE0001  TE0002  TE0003  TE0004  TE0005  \\\n",
      "0  2024-03-06 02:00:00.396  303.713409     NaN     NaN     NaN     NaN   \n",
      "1  2024-03-06 02:00:03.907  303.712494     NaN     NaN     NaN     NaN   \n",
      "2  2024-03-06 02:00:07.413  303.713104     NaN     NaN     NaN     NaN   \n",
      "3  2024-03-06 02:00:10.426  303.711853     NaN     NaN     NaN     NaN   \n",
      "4  2024-03-06 02:00:13.898  303.711243     NaN     NaN     NaN     NaN   \n",
      "\n",
      "   TE0006  TE0007  TE0008  TE0009  ...  IE_Card05  IE_Card06  IE_Card07  \\\n",
      "0     NaN     NaN     NaN     NaN  ...        NaN        NaN        NaN   \n",
      "1     NaN     NaN     NaN     NaN  ...        NaN        NaN        NaN   \n",
      "2     NaN     NaN     NaN     NaN  ...        NaN        NaN        NaN   \n",
      "3     NaN     NaN     NaN     NaN  ...        NaN        NaN        NaN   \n",
      "4     NaN     NaN     NaN     NaN  ...        NaN        NaN        NaN   \n",
      "\n",
      "   IE_Card08  IE_Card09  IE_Card10  PT4910  PT4920  Heinz_VRaw  Heinz_I  \n",
      "0        NaN        NaN        NaN     NaN     NaN         NaN      NaN  \n",
      "1        NaN        NaN        NaN     NaN     NaN         NaN      NaN  \n",
      "2        NaN        NaN        NaN     NaN     NaN         NaN      NaN  \n",
      "3        NaN        NaN        NaN     NaN     NaN         NaN      NaN  \n",
      "4        NaN        NaN        NaN     NaN     NaN         NaN      NaN  \n",
      "\n",
      "[5 rows x 331 columns]\n"
     ]
    }
   ],
   "source": [
    "print(data.head())"
   ]
  },
  {
   "cell_type": "code",
   "execution_count": 7,
   "metadata": {},
   "outputs": [
    {
     "ename": "",
     "evalue": "",
     "output_type": "error",
     "traceback": [
      "\u001b[1;31mThe Kernel crashed while executing code in the current cell or a previous cell. \n",
      "\u001b[1;31mPlease review the code in the cell(s) to identify a possible cause of the failure. \n",
      "\u001b[1;31mClick <a href='https://aka.ms/vscodeJupyterKernelCrash'>here</a> for more info. \n",
      "\u001b[1;31mView Jupyter <a href='command:jupyter.viewOutput'>log</a> for further details."
     ]
    }
   ],
   "source": [
    "data = data.set_index(\"Unnamed: 0\")\n",
    "print(data.resample(\"1min\").mean().head())"
   ]
  },
  {
   "cell_type": "code",
   "execution_count": null,
   "metadata": {},
   "outputs": [],
   "source": []
  }
 ],
 "metadata": {
  "kernelspec": {
   "display_name": "Python 3",
   "language": "python",
   "name": "python3"
  },
  "language_info": {
   "codemirror_mode": {
    "name": "ipython",
    "version": 3
   },
   "file_extension": ".py",
   "mimetype": "text/x-python",
   "name": "python",
   "nbconvert_exporter": "python",
   "pygments_lexer": "ipython3",
   "version": "3.9.21"
  }
 },
 "nbformat": 4,
 "nbformat_minor": 2
}
